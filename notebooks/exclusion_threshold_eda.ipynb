{
 "cells": [
  {
   "cell_type": "markdown",
   "metadata": {},
   "source": [
    "# Description\n",
    "\n",
    "Notebook for custom sklearn wrappers for exclusion threshold classifier."
   ]
  },
  {
   "cell_type": "markdown",
   "metadata": {},
   "source": [
    "# Imports"
   ]
  },
  {
   "cell_type": "code",
   "execution_count": 5,
   "metadata": {},
   "outputs": [],
   "source": [
    "import matplotlib\n",
    "import matplotlib.pyplot as plt\n",
    "import numpy as np\n",
    "import pandas as pd\n",
    "import seaborn as sns\n",
    "import statsmodels.api as sm\n",
    "import sys\n",
    "\n",
    "from ipywidgets import interact_manual\n",
    "from scipy.stats import norm\n",
    "from scipy.special import logit\n",
    "from sklearn.base import clone\n",
    "from sklearn.datasets import make_regression\n",
    "from sklearn.model_selection import KFold, GridSearchCV\n",
    "from linearmodels.iv import IV2SLS\n",
    "\n",
    "# Common issue with glibc, scikit (?), where the number of libraries loaded with static TLS is limited\n",
    "# Can only load one of econml or rpy2...\n",
    "# e.g. https://github.com/pytorch/pytorch/issues/2575#issuecomment-523657178\n",
    "from econml.dml import CausalForestDML, LinearDML\n",
    "from econml.grf import CausalForest\n",
    "\n",
    "# user imports\n",
    "sys.path.append(\"../\")\n",
    "\n",
    "# Don't import iv_power for now since it needs rpy2\n",
    "from utils.pwr import rdd_power\n",
    "from utils.sim import generate_IV_comply_indicator"
   ]
  },
  {
   "cell_type": "markdown",
   "metadata": {},
   "source": [
    "# Sandbox wrappers"
   ]
  },
  {
   "cell_type": "markdown",
   "metadata": {},
   "source": [
    "- executive decision: probably easier to just write a custom fold validation\n",
    "    - problem with using sklearn gridsearchCV: would be retraining the model on the same data for each threshold tested -> slowwww"
   ]
  },
  {
   "cell_type": "code",
   "execution_count": 218,
   "metadata": {},
   "outputs": [],
   "source": [
    "def iv_neff(scores, tz_df, threshold):\n",
    "    \"\"\"\n",
    "    Computes the effective sample size of the given data sample.\n",
    "    \n",
    "    Args:\n",
    "        scores (np.array): array of compliance scores\n",
    "        tz_df (pd.DataFrame)\n",
    "    \n",
    "    \"\"\"    \n",
    "    tz_df['score'] = scores\n",
    "    sel_df = tz_df[tz_df['score'] >= threshold].copy()\n",
    "    \n",
    "    if (sel_df[(sel_df['Z'] == 1)].shape[0] == 0) or (sel_df[(sel_df['Z'] == 0)].shape[0] == 0):\n",
    "        #print(\"no samples!\")\n",
    "        return -np.inf\n",
    "    \n",
    "    comply_rate = sel_df[(sel_df['Z'] == 1)]['T'].mean() - sel_df[(sel_df['Z'] == 0)]['T'].mean()\n",
    "    \n",
    "    return sel_df.shape[0] * (comply_rate**2)"
   ]
  },
  {
   "cell_type": "code",
   "execution_count": 219,
   "metadata": {},
   "outputs": [],
   "source": [
    "class ThresholdCV():\n",
    "    \"\"\"\n",
    "    Custom CV operation to detect the best threshold.\n",
    "    \n",
    "    Could also be converted to an estimator to be\n",
    "    nested with GridSearchCV, down the line.\n",
    "    \"\"\"\n",
    "    default_n_thresholds = 100\n",
    "    random_state = 42\n",
    "    \n",
    "    def __init__(self, thresholds=None, n_splits=5, clf_class=None):\n",
    "        self.thresholds = thresholds\n",
    "        self.n_splits = n_splits\n",
    "        \n",
    "        if clf_class:\n",
    "            self.clf_class = clf_class\n",
    "        else:\n",
    "            self.clf_class = CausalForest\n",
    "        \n",
    "    def get_best_threshold(self, iv_df, feat_cols):\n",
    "        \"\"\"\n",
    "        Returns the best threshold based on KFold fitting.\n",
    "        \n",
    "        Args:\n",
    "            iv_df (pd.DataFrame): the IV data\n",
    "            feat_cols (list): the list of column name features\n",
    "        \"\"\"\n",
    "        kfold = KFold(n_splits=self.n_splits, shuffle=True, random_state=self.random_state)\n",
    "        \n",
    "        # each row is the neff score for all thresholds on a particular fold\n",
    "        # each column holds all the fold scores for a particular threshold\n",
    "        if self.thresholds is not None:\n",
    "            neff_scores = np.zeros((self.n_splits, len(self.thresholds)))\n",
    "        else:\n",
    "            neff_scores = np.zeros((self.n_splits, self.default_n_thresholds))\n",
    "        \n",
    "        for split_idx, (train_idx, test_idx) in enumerate(kfold.split(iv_df)):\n",
    "            # print(idx)\n",
    "            # print(train_idx)\n",
    "            # print(test_idx)\n",
    "            train_df = iv_df.iloc[train_idx].copy()\n",
    "            test_df = iv_df.iloc[test_idx].copy()\n",
    "            \n",
    "            # train a single classifier for a given split\n",
    "            train_X = train_df[feat_cols]\n",
    "            train_Y = train_df['T']\n",
    "            train_T = train_df['Z']\n",
    "            \n",
    "            test_X = test_df[feat_cols]\n",
    "            test_Y = test_df['T']\n",
    "            test_T = test_df['Z']\n",
    "            \n",
    "            # initialize the class constructor\n",
    "            clf = self.clf_class(random_state=self.random_state)\n",
    "            clf.fit(X=train_X, y=train_Y, T=train_T)\n",
    "            #print(clf)\n",
    "            \n",
    "            scores = clf.predict(test_X)\n",
    "            tz_df = test_df[['T', 'Z']].copy()\n",
    "            \n",
    "            # go over all thresholds with fixed clf\n",
    "            if self.thresholds is None:\n",
    "                self.thresholds = np.linspace(np.min(scores), np.max(scores), \n",
    "                                              num=self.default_n_thresholds).flatten()\n",
    "            \n",
    "            #print(self.thresholds)\n",
    "            \n",
    "            for thres_idx, threshold in enumerate(self.thresholds):\n",
    "                neff = iv_neff(scores, tz_df, threshold)\n",
    "                neff_scores[split_idx, thres_idx] = neff\n",
    "    \n",
    "        mean_neff = np.mean(neff_scores, axis=0)\n",
    "        best_threshold = self.thresholds[np.argmax(mean_neff)]\n",
    "        \n",
    "        assert mean_neff.shape[0] == len(thresholds)\n",
    "        \n",
    "        print(\"Best neff: {:.3f}\".format(np.max(mean_neff)))\n",
    "        print(\"Best threshold: {:.3f}\".format(best_threshold))\n",
    "        return best_threshold\n",
    "                \n",
    "    "
   ]
  },
  {
   "cell_type": "markdown",
   "metadata": {},
   "source": [
    "## Make data: strong compliance"
   ]
  },
  {
   "cell_type": "code",
   "execution_count": 247,
   "metadata": {},
   "outputs": [],
   "source": [
    "seed = 42\n",
    "tau = 0.25\n",
    "n_samples = 2000\n",
    "n_feats = 5\n",
    "regression_dict = dict(n_informative=5, noise=0, n_features=n_feats)\n",
    "\n",
    "iv_df = generate_IV_comply_indicator(n_samples=n_samples, \n",
    "                                    tau=tau,\n",
    "                                    prop_nt=0.30,\n",
    "                                    prop_at=0.30,\n",
    "                                    use_covars=True,\n",
    "                                    regression_dict=regression_dict,\n",
    "                                    seed=seed)\n",
    "\n",
    "feat_cols = ['feat_{}'.format(i) for i in range(n_feats)]"
   ]
  },
  {
   "cell_type": "code",
   "execution_count": 248,
   "metadata": {},
   "outputs": [],
   "source": [
    "n_splits = 2\n",
    "\n",
    "kfold = KFold(n_splits=n_splits,\n",
    "             shuffle=True, random_state=42)\n",
    "\n",
    "indices = []\n",
    "\n",
    "# TODO be careful on what to split on\n",
    "for train_idx, test_idx in kfold.split(iv_df): #, y=iv_df['Z']\n",
    "    indices.append(test_idx)\n",
    "    \n",
    "\n",
    "s1_df = iv_df.iloc[indices[0]].copy()\n",
    "s2_df = iv_df.iloc[indices[1]].copy()"
   ]
  },
  {
   "cell_type": "code",
   "execution_count": 249,
   "metadata": {},
   "outputs": [
    {
     "name": "stdout",
     "output_type": "stream",
     "text": [
      "Best neff: 68.745\n",
      "Best threshold: 0.466\n",
      "CPU times: user 4.54 s, sys: 499 ms, total: 5.04 s\n",
      "Wall time: 3.77 s\n"
     ]
    }
   ],
   "source": [
    "%%time\n",
    "\n",
    "thresholds = np.linspace(0, 1, num=100)\n",
    "threshold_clf = ThresholdCV()#thresholds=thresholds)\n",
    "best_threshold = threshold_clf.get_best_threshold(s1_df, feat_cols)"
   ]
  },
  {
   "cell_type": "code",
   "execution_count": 253,
   "metadata": {},
   "outputs": [
    {
     "name": "stdout",
     "output_type": "stream",
     "text": [
      "no exclusion, s2_df neff 165.21032258675464\n"
     ]
    }
   ],
   "source": [
    "# sanity check: no exclusion\n",
    "print(\"no exclusion, s2_df neff\", iv_neff([1] * int(n_samples / 2), s2_df, 0))\n",
    "#print(iv_neff([1] * n_samples, iv_df, 0))"
   ]
  },
  {
   "cell_type": "code",
   "execution_count": 254,
   "metadata": {},
   "outputs": [
    {
     "data": {
      "image/png": "[encoded data removed]",
      "text/latex": [
       "$\\displaystyle 310.710718294052$"
      ],
      "text/plain": [
       "310.7107182940516"
      ]
     },
     "execution_count": 254,
     "metadata": {},
     "output_type": "execute_result"
    }
   ],
   "source": [
    "# sanity check, fit model\n",
    "s1_X = s1_df[feat_cols]\n",
    "s1_Y = s1_df['T'].values\n",
    "s1_T = s1_df['Z'].values\n",
    "\n",
    "s2_X = s2_df[feat_cols]\n",
    "s2_Y = s2_df['T'].values\n",
    "s2_T = s2_df['Z'].values\n",
    "\n",
    "clf = CausalForest()\n",
    "clf.fit(X=s1_X, y=s1_Y, T=s1_T)\n",
    "\n",
    "s2_scores = clf.predict(s2_X)\n",
    "\n",
    "iv_neff(s2_scores, s2_df, best_threshold)"
   ]
  },
  {
   "cell_type": "markdown",
   "metadata": {},
   "source": [
    "## Make data: weak compliance"
   ]
  },
  {
   "cell_type": "code",
   "execution_count": 270,
   "metadata": {},
   "outputs": [],
   "source": [
    "seed = 42\n",
    "tau = 0.25\n",
    "n_samples = 2000\n",
    "n_feats = 5\n",
    "regression_dict = dict(n_informative=5, noise=50, n_features=n_feats)\n",
    "\n",
    "iv_df = generate_IV_comply_indicator(n_samples=n_samples, \n",
    "                                    tau=tau,\n",
    "                                    prop_nt=0.30,\n",
    "                                    prop_at=0.30,\n",
    "                                    use_covars=True,\n",
    "                                    regression_dict=regression_dict,\n",
    "                                    seed=seed)\n",
    "\n",
    "feat_cols = ['feat_{}'.format(i) for i in range(n_feats)]"
   ]
  },
  {
   "cell_type": "code",
   "execution_count": 271,
   "metadata": {},
   "outputs": [],
   "source": [
    "n_splits = 2\n",
    "\n",
    "kfold = KFold(n_splits=n_splits,\n",
    "             shuffle=True, random_state=42)\n",
    "\n",
    "indices = []\n",
    "\n",
    "# TODO be careful on what to split on\n",
    "for train_idx, test_idx in kfold.split(iv_df): #, y=iv_df['Z']\n",
    "    indices.append(test_idx)\n",
    "    \n",
    "\n",
    "s1_df = iv_df.iloc[indices[0]].copy()\n",
    "s2_df = iv_df.iloc[indices[1]].copy()"
   ]
  },
  {
   "cell_type": "code",
   "execution_count": 272,
   "metadata": {},
   "outputs": [
    {
     "name": "stdout",
     "output_type": "stream",
     "text": [
      "Best neff: 48.486\n",
      "Best threshold: 0.452\n",
      "CPU times: user 4.41 s, sys: 540 ms, total: 4.95 s\n",
      "Wall time: 3.56 s\n"
     ]
    }
   ],
   "source": [
    "%%time\n",
    "\n",
    "thresholds = np.linspace(0, 1, num=100)\n",
    "threshold_clf = ThresholdCV()#thresholds=thresholds)\n",
    "best_threshold = threshold_clf.get_best_threshold(s1_df, feat_cols)"
   ]
  },
  {
   "cell_type": "code",
   "execution_count": 273,
   "metadata": {},
   "outputs": [
    {
     "name": "stdout",
     "output_type": "stream",
     "text": [
      "no exclusion, s2_df neff 179.30473957097647\n"
     ]
    }
   ],
   "source": [
    "# sanity check: no exclusion\n",
    "print(\"no exclusion, s2_df neff\", iv_neff([1] * int(n_samples / 2), s2_df, 0))\n",
    "#print(iv_neff([1] * n_samples, iv_df, 0))"
   ]
  },
  {
   "cell_type": "code",
   "execution_count": 274,
   "metadata": {},
   "outputs": [
    {
     "data": {
      "image/png": "[encoded data removed]",
      "text/latex": [
       "$\\displaystyle 230.170087639927$"
      ],
      "text/plain": [
       "230.17008763992723"
      ]
     },
     "execution_count": 274,
     "metadata": {},
     "output_type": "execute_result"
    }
   ],
   "source": [
    "# sanity check, fit model\n",
    "s1_X = s1_df[feat_cols]\n",
    "s1_Y = s1_df['T'].values\n",
    "s1_T = s1_df['Z'].values\n",
    "\n",
    "s2_X = s2_df[feat_cols]\n",
    "s2_Y = s2_df['T'].values\n",
    "s2_T = s2_df['Z'].values\n",
    "\n",
    "clf = CausalForest()\n",
    "clf.fit(X=s1_X, y=s1_Y, T=s1_T)\n",
    "\n",
    "s2_scores = clf.predict(s2_X)\n",
    "\n",
    "iv_neff(s2_scores, s2_df, best_threshold)"
   ]
  },
  {
   "cell_type": "markdown",
   "metadata": {},
   "source": [
    "## Make data: noise"
   ]
  },
  {
   "cell_type": "code",
   "execution_count": 275,
   "metadata": {},
   "outputs": [],
   "source": [
    "seed = 42\n",
    "tau = 0.25\n",
    "n_samples = 2000\n",
    "n_feats = 5\n",
    "regression_dict = dict(n_informative=0, noise=100, n_features=n_feats)\n",
    "\n",
    "iv_df = generate_IV_comply_indicator(n_samples=n_samples, \n",
    "                                    tau=tau,\n",
    "                                    prop_nt=0.30,\n",
    "                                    prop_at=0.30,\n",
    "                                    use_covars=True,\n",
    "                                    regression_dict=regression_dict,\n",
    "                                    seed=seed)\n",
    "\n",
    "feat_cols = ['feat_{}'.format(i) for i in range(n_feats)]"
   ]
  },
  {
   "cell_type": "code",
   "execution_count": 276,
   "metadata": {},
   "outputs": [],
   "source": [
    "n_splits = 2\n",
    "\n",
    "kfold = KFold(n_splits=n_splits,\n",
    "             shuffle=True, random_state=42)\n",
    "\n",
    "indices = []\n",
    "\n",
    "# TODO be careful on what to split on\n",
    "for train_idx, test_idx in kfold.split(iv_df): #, y=iv_df['Z']\n",
    "    indices.append(test_idx)\n",
    "    \n",
    "\n",
    "s1_df = iv_df.iloc[indices[0]].copy()\n",
    "s2_df = iv_df.iloc[indices[1]].copy()"
   ]
  },
  {
   "cell_type": "code",
   "execution_count": 277,
   "metadata": {},
   "outputs": [
    {
     "name": "stdout",
     "output_type": "stream",
     "text": [
      "Best neff: 31.776\n",
      "Best threshold: 0.176\n",
      "CPU times: user 4.63 s, sys: 448 ms, total: 5.07 s\n",
      "Wall time: 3.6 s\n"
     ]
    }
   ],
   "source": [
    "%%time\n",
    "\n",
    "thresholds = np.linspace(0, 1, num=100)\n",
    "threshold_clf = ThresholdCV()#thresholds=thresholds)\n",
    "best_threshold = threshold_clf.get_best_threshold(s1_df, feat_cols)"
   ]
  },
  {
   "cell_type": "code",
   "execution_count": 278,
   "metadata": {},
   "outputs": [
    {
     "name": "stdout",
     "output_type": "stream",
     "text": [
      "no exclusion, s2_df neff 174.724\n"
     ]
    }
   ],
   "source": [
    "# sanity check: no exclusion\n",
    "print(\"no exclusion, s2_df neff\", iv_neff([1] * int(n_samples / 2), s2_df, 0))\n",
    "#print(iv_neff([1] * n_samples, iv_df, 0))"
   ]
  },
  {
   "cell_type": "code",
   "execution_count": 279,
   "metadata": {},
   "outputs": [
    {
     "data": {
      "image/png": "[encoded data removed]",
      "text/latex": [
       "$\\displaystyle 174.724$"
      ],
      "text/plain": [
       "174.724"
      ]
     },
     "execution_count": 279,
     "metadata": {},
     "output_type": "execute_result"
    }
   ],
   "source": [
    "# sanity check, fit model\n",
    "s1_X = s1_df[feat_cols]\n",
    "s1_Y = s1_df['T'].values\n",
    "s1_T = s1_df['Z'].values\n",
    "\n",
    "s2_X = s2_df[feat_cols]\n",
    "s2_Y = s2_df['T'].values\n",
    "s2_T = s2_df['Z'].values\n",
    "\n",
    "clf = CausalForest()\n",
    "clf.fit(X=s1_X, y=s1_Y, T=s1_T)\n",
    "\n",
    "s2_scores = clf.predict(s2_X)\n",
    "\n",
    "iv_neff(s2_scores, s2_df, best_threshold)"
   ]
  },
  {
   "cell_type": "markdown",
   "metadata": {},
   "source": [
    "## Custom GridSearchCV sandbox"
   ]
  },
  {
   "cell_type": "code",
   "execution_count": 4,
   "metadata": {},
   "outputs": [],
   "source": [
    "from sklearn.metrics import make_scorer"
   ]
  },
  {
   "cell_type": "code",
   "execution_count": 118,
   "metadata": {},
   "outputs": [],
   "source": [
    "def iv_neff_score(y, y_pred, data=None):\n",
    "    \"\"\"\n",
    "    Computes the effective sample size of the given data sample.\n",
    "    \n",
    "    Args:\n",
    "        y (np.array): defined to match the function signature of a score, not used. \n",
    "        y_pred (np.array): binary indicator of whether a sample is included (1) or excluded (0)\n",
    "        data (pd.DataFrame): the data frame containing T and Z\n",
    "    \n",
    "    \"\"\"    \n",
    "    data['sel'] = y_pred\n",
    "    #print(data)\n",
    "    sel_df = data[data['sel'] == 1].copy()\n",
    "    \n",
    "    comply_rate = sel_df[(sel_df['Z'] == 1)]['T'].mean() - sel_df[(sel_df['Z'] == 0)]['T'].mean()\n",
    "    \n",
    "    return sel_df.shape[0] * (comply_rate**2)"
   ]
  },
  {
   "cell_type": "code",
   "execution_count": 120,
   "metadata": {},
   "outputs": [],
   "source": [
    "neff_scorer = make_scorer(iv_neff_score)"
   ]
  },
  {
   "cell_type": "code",
   "execution_count": 89,
   "metadata": {},
   "outputs": [],
   "source": [
    "class ExcludeClassifier(CausalForest):\n",
    "    \"\"\"\n",
    "    Wrapper class for CausalForest, with a threshold.\n",
    "    \n",
    "    TODO modify so that y actually contains both Z and T, which can then be passed into scorer as \"y\"\n",
    "    \"y_pred\" should still be allowed as a single score.\n",
    "    \"\"\"\n",
    "    def __init__(self, threshold=0.5, n_estimators=100):\n",
    "        self.threshold = threshold\n",
    "        super().__init__(n_estimators=n_estimators)\n",
    "    \n",
    "    def fit(self, X, y):\n",
    "        \"\"\"\n",
    "        Here, to hack around the sklearn API, y is actually a df with 'T' and 'Z' values.\n",
    "        \"\"\"\n",
    "        super().fit(X, T, y)\n",
    "    \n",
    "    def predict(self, X):\n",
    "        preds = super().predict(X)\n",
    "        \n",
    "        return preds > self.threshold"
   ]
  },
  {
   "cell_type": "code",
   "execution_count": 53,
   "metadata": {},
   "outputs": [],
   "source": [
    "n_splits = 2\n",
    "\n",
    "kfold = KFold(n_splits=n_splits,\n",
    "             shuffle=True, random_state=42)\n",
    "\n",
    "indices = []\n",
    "\n",
    "# TODO be careful on what to split on\n",
    "for train_idx, test_idx in kfold.split(iv_df): #, y=iv_df['Z']\n",
    "    indices.append(test_idx)\n",
    "    \n",
    "\n",
    "s1_df = iv_df.iloc[indices[0]].copy()\n",
    "s2_df = iv_df.iloc[indices[1]].copy()"
   ]
  },
  {
   "cell_type": "code",
   "execution_count": 54,
   "metadata": {},
   "outputs": [],
   "source": [
    "\n",
    "X = s1_df[feat_cols]\n",
    "Y = s1_df['T'].values\n",
    "T = s1_df['Z'].values"
   ]
  },
  {
   "cell_type": "code",
   "execution_count": 95,
   "metadata": {},
   "outputs": [],
   "source": [
    "cforest = ExcludeClassifier()\n",
    "cforest_cv = GridSearchCV(estimator=cforest,\n",
    "                          param_grid={\n",
    "                              \"n_estimators\": [100],\n",
    "                              \"threshold\": [0.5, 0.7, 0.8]\n",
    "                          },\n",
    "                          scoring=\"accuracy\", \n",
    "                          verbose=4)"
   ]
  },
  {
   "cell_type": "code",
   "execution_count": 96,
   "metadata": {},
   "outputs": [
    {
     "name": "stdout",
     "output_type": "stream",
     "text": [
      "Fitting 5 folds for each of 3 candidates, totalling 15 fits\n",
      "[CV 1/5] END ...n_estimators=100, threshold=0.5;, score=0.570 total time=   0.4s\n",
      "[CV 2/5] END ...n_estimators=100, threshold=0.5;, score=0.555 total time=   0.3s\n",
      "[CV 3/5] END ...n_estimators=100, threshold=0.5;, score=0.565 total time=   0.3s\n",
      "[CV 4/5] END ...n_estimators=100, threshold=0.5;, score=0.475 total time=   0.3s\n",
      "[CV 5/5] END ...n_estimators=100, threshold=0.5;, score=0.570 total time=   0.3s\n",
      "[CV 1/5] END ...n_estimators=100, threshold=0.7;, score=0.510 total time=   0.3s\n",
      "[CV 2/5] END ...n_estimators=100, threshold=0.7;, score=0.485 total time=   0.3s\n",
      "[CV 3/5] END ...n_estimators=100, threshold=0.7;, score=0.555 total time=   0.3s\n",
      "[CV 4/5] END ...n_estimators=100, threshold=0.7;, score=0.455 total time=   0.3s\n",
      "[CV 5/5] END ...n_estimators=100, threshold=0.7;, score=0.515 total time=   0.3s\n",
      "[CV 1/5] END ...n_estimators=100, threshold=0.8;, score=0.500 total time=   0.3s\n",
      "[CV 2/5] END ...n_estimators=100, threshold=0.8;, score=0.490 total time=   0.3s\n",
      "[CV 3/5] END ...n_estimators=100, threshold=0.8;, score=0.575 total time=   0.3s\n",
      "[CV 4/5] END ...n_estimators=100, threshold=0.8;, score=0.460 total time=   0.3s\n",
      "[CV 5/5] END ...n_estimators=100, threshold=0.8;, score=0.545 total time=   0.3s\n",
      "CPU times: user 8.03 s, sys: 1.59 s, total: 9.63 s\n",
      "Wall time: 5.14 s\n"
     ]
    },
    {
     "data": {
      "text/plain": [
       "GridSearchCV(estimator=ExcludeClassifier(),\n",
       "             param_grid={'n_estimators': [100], 'threshold': [0.5, 0.7, 0.8]},\n",
       "             scoring='accuracy', verbose=4)"
      ]
     },
     "execution_count": 96,
     "metadata": {},
     "output_type": "execute_result"
    }
   ],
   "source": [
    "%%time\n",
    "cforest_cv.fit(X=X, y=Y, T=T)"
   ]
  },
  {
   "cell_type": "code",
   "execution_count": 97,
   "metadata": {},
   "outputs": [
    {
     "data": {
      "text/plain": [
       "{'n_estimators': 100, 'threshold': 0.5}"
      ]
     },
     "execution_count": 97,
     "metadata": {},
     "output_type": "execute_result"
    }
   ],
   "source": [
    "cforest_cv.best_params_"
   ]
  }
 ],
 "metadata": {
  "hide_input": false,
  "kernelspec": {
   "display_name": "Python 3",
   "language": "python",
   "name": "python3"
  },
  "language_info": {
   "codemirror_mode": {
    "name": "ipython",
    "version": 3
   },
   "file_extension": ".py",
   "mimetype": "text/x-python",
   "name": "python",
   "nbconvert_exporter": "python",
   "pygments_lexer": "ipython3",
   "version": "3.7.7"
  }
 },
 "nbformat": 4,
 "nbformat_minor": 2
}
