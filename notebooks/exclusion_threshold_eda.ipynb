{
 "cells": [
  {
   "cell_type": "markdown",
   "metadata": {},
   "source": [
    "# Description\n",
    "\n",
    "Notebook for custom sklearn wrappers for exclusion threshold classifier."
   ]
  },
  {
   "cell_type": "markdown",
   "metadata": {},
   "source": [
    "# Imports"
   ]
  },
  {
   "cell_type": "code",
   "execution_count": 5,
   "metadata": {},
   "outputs": [],
   "source": [
    "import matplotlib\n",
    "import matplotlib.pyplot as plt\n",
    "import numpy as np\n",
    "import pandas as pd\n",
    "import seaborn as sns\n",
    "import statsmodels.api as sm\n",
    "import sys\n",
    "\n",
    "from ipywidgets import interact_manual\n",
    "from scipy.stats import norm\n",
    "from scipy.special import logit\n",
    "from sklearn.base import clone\n",
    "from sklearn.datasets import make_regression\n",
    "from sklearn.model_selection import KFold, GridSearchCV\n",
    "from linearmodels.iv import IV2SLS\n",
    "\n",
    "# Common issue with glibc, scikit (?), where the number of libraries loaded with static TLS is limited\n",
    "# Can only load one of econml or rpy2...\n",
    "# e.g. https://github.com/pytorch/pytorch/issues/2575#issuecomment-523657178\n",
    "from econml.dml import CausalForestDML, LinearDML\n",
    "from econml.grf import CausalForest\n",
    "\n",
    "# user imports\n",
    "sys.path.append(\"../\")\n",
    "\n",
    "# Don't import iv_power for now since it needs rpy2\n",
    "from utils.pwr import rdd_power\n",
    "from utils.sim import generate_IV_comply_indicator"
   ]
  },
  {
   "cell_type": "markdown",
   "metadata": {},
   "source": [
    "# Sandbox wrappers"
   ]
  },
  {
   "cell_type": "code",
   "execution_count": 4,
   "metadata": {},
   "outputs": [],
   "source": [
    "from sklearn.metrics import make_scorer"
   ]
  },
  {
   "cell_type": "code",
   "execution_count": 90,
   "metadata": {},
   "outputs": [],
   "source": [
    "def iv_neff(y, y_pred, data=None):\n",
    "    \"\"\"\n",
    "    Computes the effective sample size of the given data sample.\n",
    "    \n",
    "    Args:\n",
    "        y (np.array): defined to match the function signature of a score, not used. \n",
    "        y_pred (np.array): binary indicator of whether a sample is included (1) or excluded (0)\n",
    "        data (pd.DataFrame): the data frame containing T and Z\n",
    "    \n",
    "    \"\"\"    \n",
    "    data['sel'] = y_pred\n",
    "    #print(data)\n",
    "    sel_df = data[data['sel'] == 1].copy()\n",
    "    \n",
    "    comply_rate = sel_df[(sel_df['Z'] == 1)]['T'].mean() - sel_df[(sel_df['Z'] == 0)]['T'].mean()\n",
    "    \n",
    "    return sel_df.shape[0] * (comply_rate**2)"
   ]
  },
  {
   "cell_type": "code",
   "execution_count": 92,
   "metadata": {},
   "outputs": [],
   "source": [
    "neff_scorer = make_scorer(iv_neff)"
   ]
  },
  {
   "cell_type": "code",
   "execution_count": 89,
   "metadata": {},
   "outputs": [],
   "source": [
    "class ExcludeClassifier(CausalForest):\n",
    "    \"\"\"\n",
    "    Wrapper class for CausalForest, with a threshold\n",
    "    \n",
    "    TODO modify so that y actually contains both Z and T, which can then be passed into scorer as \"y\"\n",
    "    \"y_pred\" should still be allowed as a single score.\n",
    "    \"\"\"\n",
    "    def __init__(self, threshold=0.5, n_estimators=100):\n",
    "        self.threshold = threshold\n",
    "        super().__init__(n_estimators=n_estimators)\n",
    "    \n",
    "    def fit(self, X, y, T=None):\n",
    "        super().fit(X, T, y)\n",
    "    \n",
    "    def predict(self, X):\n",
    "        preds = super().predict(X)\n",
    "        \n",
    "        return preds > self.threshold"
   ]
  },
  {
   "cell_type": "markdown",
   "metadata": {},
   "source": [
    "## Make data"
   ]
  },
  {
   "cell_type": "code",
   "execution_count": 80,
   "metadata": {},
   "outputs": [],
   "source": [
    "seed = 42\n",
    "tau = 0.25\n",
    "n_samples = 2000\n",
    "n_feats = 5\n",
    "regression_dict = dict(n_informative=5, noise=0, n_features=n_feats)\n",
    "\n",
    "iv_df = generate_IV_comply_indicator(n_samples=n_samples, \n",
    "                                    tau=tau,\n",
    "                                    prop_nt=0.30,\n",
    "                                    prop_at=0.30,\n",
    "                                    use_covars=True,\n",
    "                                    regression_dict=regression_dict,\n",
    "                                    seed=seed)"
   ]
  },
  {
   "cell_type": "code",
   "execution_count": 53,
   "metadata": {},
   "outputs": [],
   "source": [
    "n_splits = 2\n",
    "\n",
    "kfold = KFold(n_splits=n_splits,\n",
    "             shuffle=True, random_state=42)\n",
    "\n",
    "indices = []\n",
    "\n",
    "# TODO be careful on what to split on\n",
    "for train_idx, test_idx in kfold.split(iv_df): #, y=iv_df['Z']\n",
    "    indices.append(test_idx)\n",
    "    \n",
    "\n",
    "s1_df = iv_df.iloc[indices[0]].copy()\n",
    "s2_df = iv_df.iloc[indices[1]].copy()"
   ]
  },
  {
   "cell_type": "code",
   "execution_count": 54,
   "metadata": {},
   "outputs": [],
   "source": [
    "feat_cols = ['feat_{}'.format(i) for i in range(n_feats)]\n",
    "\n",
    "X = s1_df[feat_cols]\n",
    "Y = s1_df['T'].values\n",
    "T = s1_df['Z'].values"
   ]
  },
  {
   "cell_type": "code",
   "execution_count": 58,
   "metadata": {},
   "outputs": [],
   "source": [
    "cforest = ExcludeClassifier()\n",
    "cforest_cv = GridSearchCV(estimator=cforest,\n",
    "                          param_grid={\n",
    "                              \"n_estimators\": [100],\n",
    "                              \"threshold\": [0.5, 0.7, 0.8]\n",
    "                          },\n",
    "                          scoring=\"accuracy\", \n",
    "                          verbose=3)"
   ]
  },
  {
   "cell_type": "code",
   "execution_count": 59,
   "metadata": {},
   "outputs": [
    {
     "name": "stdout",
     "output_type": "stream",
     "text": [
      "Fitting 5 folds for each of 3 candidates, totalling 15 fits\n",
      "[CV 1/5] END ...n_estimators=100, threshold=0.5;, score=0.560 total time=   0.4s\n",
      "[CV 2/5] END ...n_estimators=100, threshold=0.5;, score=0.555 total time=   0.3s\n",
      "[CV 3/5] END ...n_estimators=100, threshold=0.5;, score=0.575 total time=   0.3s\n",
      "[CV 4/5] END ...n_estimators=100, threshold=0.5;, score=0.475 total time=   0.3s\n",
      "[CV 5/5] END ...n_estimators=100, threshold=0.5;, score=0.575 total time=   0.3s\n",
      "[CV 1/5] END ...n_estimators=100, threshold=0.7;, score=0.505 total time=   0.3s\n",
      "[CV 2/5] END ...n_estimators=100, threshold=0.7;, score=0.490 total time=   0.3s\n",
      "[CV 3/5] END ...n_estimators=100, threshold=0.7;, score=0.560 total time=   0.3s\n",
      "[CV 4/5] END ...n_estimators=100, threshold=0.7;, score=0.450 total time=   0.3s\n",
      "[CV 5/5] END ...n_estimators=100, threshold=0.7;, score=0.530 total time=   0.3s\n",
      "[CV 1/5] END ...n_estimators=100, threshold=0.8;, score=0.480 total time=   0.3s\n",
      "[CV 2/5] END ...n_estimators=100, threshold=0.8;, score=0.475 total time=   0.3s\n",
      "[CV 3/5] END ...n_estimators=100, threshold=0.8;, score=0.565 total time=   0.3s\n",
      "[CV 4/5] END ...n_estimators=100, threshold=0.8;, score=0.465 total time=   0.3s\n",
      "[CV 5/5] END ...n_estimators=100, threshold=0.8;, score=0.540 total time=   0.3s\n",
      "CPU times: user 7.95 s, sys: 1.83 s, total: 9.78 s\n",
      "Wall time: 5.28 s\n"
     ]
    },
    {
     "data": {
      "text/plain": [
       "GridSearchCV(estimator=ExcludeClassifier(),\n",
       "             param_grid={'n_estimators': [100], 'threshold': [0.5, 0.7, 0.8]},\n",
       "             scoring='accuracy', verbose=3)"
      ]
     },
     "execution_count": 59,
     "metadata": {},
     "output_type": "execute_result"
    }
   ],
   "source": [
    "%%time\n",
    "cforest_cv.fit(X=X, y=Y, T=T)"
   ]
  }
 ],
 "metadata": {
  "hide_input": false,
  "kernelspec": {
   "display_name": "Python 3",
   "language": "python",
   "name": "python3"
  },
  "language_info": {
   "codemirror_mode": {
    "name": "ipython",
    "version": 3
   },
   "file_extension": ".py",
   "mimetype": "text/x-python",
   "name": "python",
   "nbconvert_exporter": "python",
   "pygments_lexer": "ipython3",
   "version": "3.7.7"
  }
 },
 "nbformat": 4,
 "nbformat_minor": 2
}
