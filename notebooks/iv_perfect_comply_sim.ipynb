{
 "cells": [
  {
   "cell_type": "markdown",
   "metadata": {},
   "source": [
    "# Description"
   ]
  },
  {
   "cell_type": "markdown",
   "metadata": {},
   "source": [
    "This notebook explores the effect of \"overfitting\" data splitting on subsequent treatment effect estimates."
   ]
  },
  {
   "cell_type": "markdown",
   "metadata": {},
   "source": [
    "# Imports"
   ]
  },
  {
   "cell_type": "code",
   "execution_count": 22,
   "metadata": {},
   "outputs": [],
   "source": [
    "import matplotlib\n",
    "import matplotlib.pyplot as plt\n",
    "import numpy as np\n",
    "import pandas as pd\n",
    "import seaborn as sns\n",
    "import statsmodels.api as sm\n",
    "import sys\n",
    "\n",
    "from ipywidgets import interact_manual\n",
    "from scipy.stats import norm\n",
    "from scipy.special import logit\n",
    "from sklearn.base import clone\n",
    "from linearmodels.iv import IV2SLS\n",
    "\n",
    "# user imports\n",
    "sys.path.append(\"../\")\n",
    "\n",
    "from utils.pwr import rdd_power, iv_power"
   ]
  },
  {
   "cell_type": "code",
   "execution_count": 23,
   "metadata": {},
   "outputs": [],
   "source": [
    "# matplotlib config\n",
    "%matplotlib inline\n",
    "\n",
    "matplotlib.rcParams['figure.dpi'] = 300"
   ]
  },
  {
   "cell_type": "code",
   "execution_count": 24,
   "metadata": {},
   "outputs": [],
   "source": [
    "#Import necessary packages\n",
    "import rpy2.robjects as robjects\n",
    "from rpy2.robjects.packages import importr\n",
    "from rpy2.robjects import pandas2ri\n",
    "#Must be activated\n",
    "pandas2ri.activate()"
   ]
  },
  {
   "cell_type": "markdown",
   "metadata": {},
   "source": [
    "# Generate single-run data"
   ]
  },
  {
   "cell_type": "code",
   "execution_count": 25,
   "metadata": {},
   "outputs": [
    {
     "name": "stdout",
     "output_type": "stream",
     "text": [
      "(1000, 3)\n"
     ]
    }
   ],
   "source": [
    "n = 1000\n",
    "seed = 42\n",
    "prop_comply = 0.5\n",
    "tau = 0.2\n",
    "\n",
    "np.random.seed(seed)\n",
    "\n",
    "Z_T = 0.5\n",
    "C_T = 0.5\n",
    "\n",
    "# vars:             Z    T    C\n",
    "covar = np.array([[1.0, Z_T, 0.0], # Z\n",
    "                  [Z_T, 1.0, C_T], # T\n",
    "                  [0.0, C_T, 1.0]])# C\n",
    "#covar += np.eye(3,3)\n",
    "\n",
    "# vars:  Z  T  C\n",
    "means = [0, 0, 0]\n",
    "\n",
    "# generate some data\n",
    "data = np.random.multivariate_normal(mean=means, cov=covar, size=n)\n",
    "\n",
    "print(data.shape)\n",
    "# generate random instrument\n",
    "#Z = np.random.randint(0,2,n)\n",
    "Z = (data[:, 0] > 0).astype(int)\n",
    "\n",
    "# generate random binary covariate for compliance\n",
    "X = np.random.random_sample(n)\n",
    "X = (X < prop_comply).astype(int)\n",
    "\n",
    "# generate endogenous treatment\n",
    "T = (data[:, 1] > 0).astype(int)\n",
    "\n",
    "# first fill with random values\n",
    "#T = np.random.randint(0,2,n)\n",
    "\n",
    "# fill in Z when the sample is a complier\n",
    "T = np.where(X == 1, Z, T)\n",
    "\n",
    "# generate a confounder: correlation with treatment\n",
    "#C = np.random.normal(0.5*T, 0.5)\n",
    "C = data[:, 2]\n",
    "\n",
    "Y = tau*T + C + np.random.normal(0, 1, 1000)"
   ]
  },
  {
   "cell_type": "code",
   "execution_count": 26,
   "metadata": {},
   "outputs": [],
   "source": [
    "df = pd.DataFrame()\n",
    "df['Z'] = Z\n",
    "df['X'] = X\n",
    "df['T'] = T\n",
    "df['C'] = C\n",
    "df['Y'] = Y"
   ]
  },
  {
   "cell_type": "code",
   "execution_count": 27,
   "metadata": {},
   "outputs": [
    {
     "data": {
      "text/html": [
       "<div>\n",
       "<style scoped>\n",
       "    .dataframe tbody tr th:only-of-type {\n",
       "        vertical-align: middle;\n",
       "    }\n",
       "\n",
       "    .dataframe tbody tr th {\n",
       "        vertical-align: top;\n",
       "    }\n",
       "\n",
       "    .dataframe thead th {\n",
       "        text-align: right;\n",
       "    }\n",
       "</style>\n",
       "<table border=\"1\" class=\"dataframe\">\n",
       "  <thead>\n",
       "    <tr style=\"text-align: right;\">\n",
       "      <th></th>\n",
       "      <th>Z</th>\n",
       "      <th>X</th>\n",
       "      <th>T</th>\n",
       "      <th>C</th>\n",
       "      <th>Y</th>\n",
       "    </tr>\n",
       "  </thead>\n",
       "  <tbody>\n",
       "    <tr>\n",
       "      <th>Z</th>\n",
       "      <td>1.000000</td>\n",
       "      <td>-0.029419</td>\n",
       "      <td>0.683685</td>\n",
       "      <td>-0.042523</td>\n",
       "      <td>0.035377</td>\n",
       "    </tr>\n",
       "    <tr>\n",
       "      <th>X</th>\n",
       "      <td>-0.029419</td>\n",
       "      <td>1.000000</td>\n",
       "      <td>-0.004928</td>\n",
       "      <td>0.037883</td>\n",
       "      <td>0.030164</td>\n",
       "    </tr>\n",
       "    <tr>\n",
       "      <th>T</th>\n",
       "      <td>0.683685</td>\n",
       "      <td>-0.004928</td>\n",
       "      <td>1.000000</td>\n",
       "      <td>0.158523</td>\n",
       "      <td>0.172074</td>\n",
       "    </tr>\n",
       "    <tr>\n",
       "      <th>C</th>\n",
       "      <td>-0.042523</td>\n",
       "      <td>0.037883</td>\n",
       "      <td>0.158523</td>\n",
       "      <td>1.000000</td>\n",
       "      <td>0.726163</td>\n",
       "    </tr>\n",
       "    <tr>\n",
       "      <th>Y</th>\n",
       "      <td>0.035377</td>\n",
       "      <td>0.030164</td>\n",
       "      <td>0.172074</td>\n",
       "      <td>0.726163</td>\n",
       "      <td>1.000000</td>\n",
       "    </tr>\n",
       "  </tbody>\n",
       "</table>\n",
       "</div>"
      ],
      "text/plain": [
       "          Z         X         T         C         Y\n",
       "Z  1.000000 -0.029419  0.683685 -0.042523  0.035377\n",
       "X -0.029419  1.000000 -0.004928  0.037883  0.030164\n",
       "T  0.683685 -0.004928  1.000000  0.158523  0.172074\n",
       "C -0.042523  0.037883  0.158523  1.000000  0.726163\n",
       "Y  0.035377  0.030164  0.172074  0.726163  1.000000"
      ]
     },
     "execution_count": 27,
     "metadata": {},
     "output_type": "execute_result"
    }
   ],
   "source": [
    "df.corr()"
   ]
  },
  {
   "cell_type": "code",
   "execution_count": 28,
   "metadata": {},
   "outputs": [],
   "source": [
    "formula = 'Y ~ 1 + [T ~ Z]'"
   ]
  },
  {
   "cell_type": "code",
   "execution_count": 29,
   "metadata": {},
   "outputs": [],
   "source": [
    "iv_model = IV2SLS.from_formula(formula, df)\n",
    "iv_results = iv_model.fit(cov_type='robust')"
   ]
  },
  {
   "cell_type": "code",
   "execution_count": 30,
   "metadata": {},
   "outputs": [
    {
     "data": {
      "text/html": [
       "<table class=\"simpletable\">\n",
       "<caption>IV-2SLS Estimation Summary</caption>\n",
       "<tr>\n",
       "  <th>Dep. Variable:</th>            <td>Y</td>        <th>  R-squared:         </th> <td>0.0151</td> \n",
       "</tr>\n",
       "<tr>\n",
       "  <th>Estimator:</th>             <td>IV-2SLS</td>     <th>  Adj. R-squared:    </th> <td>0.0141</td> \n",
       "</tr>\n",
       "<tr>\n",
       "  <th>No. Observations:</th>       <td>1000</td>       <th>  F-statistic:       </th> <td>1.2730</td> \n",
       "</tr>\n",
       "<tr>\n",
       "  <th>Date:</th>             <td>Tue, Sep 28 2021</td> <th>  P-value (F-stat)   </th> <td>0.2592</td> \n",
       "</tr>\n",
       "<tr>\n",
       "  <th>Time:</th>                 <td>10:47:06</td>     <th>  Distribution:      </th> <td>chi2(1)</td>\n",
       "</tr>\n",
       "<tr>\n",
       "  <th>Cov. Estimator:</th>        <td>robust</td>      <th>                     </th>    <td></td>    \n",
       "</tr>\n",
       "<tr>\n",
       "  <th></th>                          <td></td>         <th>                     </th>    <td></td>    \n",
       "</tr>\n",
       "</table>\n",
       "<table class=\"simpletable\">\n",
       "<caption>Parameter Estimates</caption>\n",
       "<tr>\n",
       "      <td></td>      <th>Parameter</th> <th>Std. Err.</th> <th>T-stat</th>  <th>P-value</th> <th>Lower CI</th> <th>Upper CI</th>\n",
       "</tr>\n",
       "<tr>\n",
       "  <th>Intercept</th>  <td>-0.0545</td>   <td>0.0780</td>   <td>-0.6993</td> <td>0.4844</td>   <td>-0.2073</td>  <td>0.0983</td> \n",
       "</tr>\n",
       "<tr>\n",
       "  <th>T</th>          <td>0.1487</td>    <td>0.1318</td>   <td>1.1283</td>  <td>0.2592</td>   <td>-0.1096</td>  <td>0.4070</td> \n",
       "</tr>\n",
       "</table><br/><br/>Endogenous: T<br/>Instruments: Z<br/>Robust Covariance (Heteroskedastic)<br/>Debiased: False<br/>id: 0x7fcfd1dad6d0"
      ],
      "text/plain": [
       "                          IV-2SLS Estimation Summary                          \n",
       "==============================================================================\n",
       "Dep. Variable:                      Y   R-squared:                      0.0151\n",
       "Estimator:                    IV-2SLS   Adj. R-squared:                 0.0141\n",
       "No. Observations:                1000   F-statistic:                    1.2730\n",
       "Date:                Tue, Sep 28 2021   P-value (F-stat)                0.2592\n",
       "Time:                        10:47:06   Distribution:                  chi2(1)\n",
       "Cov. Estimator:                robust                                         \n",
       "                                                                              \n",
       "                             Parameter Estimates                              \n",
       "==============================================================================\n",
       "            Parameter  Std. Err.     T-stat    P-value    Lower CI    Upper CI\n",
       "------------------------------------------------------------------------------\n",
       "Intercept     -0.0545     0.0780    -0.6993     0.4844     -0.2073      0.0983\n",
       "T              0.1487     0.1318     1.1283     0.2592     -0.1096      0.4070\n",
       "==============================================================================\n",
       "\n",
       "Endogenous: T\n",
       "Instruments: Z\n",
       "Robust Covariance (Heteroskedastic)\n",
       "Debiased: False\n",
       "IVResults, id: 0x7fcfd1dad6d0"
      ]
     },
     "metadata": {},
     "output_type": "display_data"
    },
    {
     "name": "stdout",
     "output_type": "stream",
     "text": [
      "0.3293345284537802\n",
      "0.32884887510612126\n"
     ]
    }
   ],
   "source": [
    "display(iv_results)\n",
    "var = iv_results.std_errors['T']**2\n",
    "pwr = rdd_power(tau, var)\n",
    "print(pwr)\n",
    "print(iv_power(df, tau))\n"
   ]
  },
  {
   "cell_type": "markdown",
   "metadata": {},
   "source": [
    "# Simulation data functions"
   ]
  },
  {
   "cell_type": "code",
   "execution_count": 31,
   "metadata": {},
   "outputs": [],
   "source": [
    "def generate_IV_comply_indicator(n_samples, tau, seed=0, \n",
    "                                 prop_nt=0.4, prop_at=0.4, prop_z=0.5, \n",
    "                                 C_T=0.8, Z_T=0.8):\n",
    "    \"\"\"\n",
    "    Generates IV data with perfect compliance indicator X.\n",
    "    \n",
    "    Note from Baocchi et al. 2014 Eq 16 that \"instrument strength\" is equivalent to proportion of compliers.\n",
    "    \n",
    "    \n",
    "    See this for simulating IVs:\n",
    "        - https://statmodeling.stat.columbia.edu/2019/06/20/how-to-simulate-an-instrumental-variables-problem/\n",
    "    \n",
    "    Args:\n",
    "        n_samples (int): the number of samples to generate\n",
    "        tau (float): the treatment effect on compliers to measure\n",
    "        seed (int): see for reproducibility\n",
    "        prop_nt (float): the proportion of never takers\n",
    "        prop_at (float): the proportion of always takers, note that prop_comply is then 1 - prop_nt - prop_at\n",
    "        prop_z (float): the proportion of individuals \"encouraged\" by the instrument\n",
    "        C_T (float): the covariance between the confounder and treatment; only applies to compliers \n",
    "                     TODO is this an issue?\n",
    "        Z_T (float): the covariance between the instrument and treatment\n",
    "    \"\"\"\n",
    "    assert (prop_nt + prop_at) < 1, \"proportion of compliers needs to be > 0\"\n",
    "    \n",
    "    np.random.seed(seed)\n",
    "    feat_df = pd.DataFrame()\n",
    "    feat_df['comply_coeff'] = np.random.uniform(0, 1, size=n_samples)\n",
    "\n",
    "    def comply_indicator(x):\n",
    "        if x < prop_nt:\n",
    "            return 'nt'\n",
    "        elif x < prop_nt + prop_at:\n",
    "            return 'at'\n",
    "        else:\n",
    "            return 'co'\n",
    "\n",
    "    feat_df['comply_status'] = feat_df['comply_coeff'].apply(comply_indicator)\n",
    "    X = (feat_df['comply_status'] == 'co').astype(int)\n",
    "    \n",
    "    # vars:             Z    T    C\n",
    "    covar = np.array([[1.0, Z_T, 0.0], # Z\n",
    "                      [Z_T, 1.0, C_T], # T\n",
    "                      [0.0, C_T, 1.0]])# C\n",
    "    \n",
    "    covar += np.eye(3,3)\n",
    "\n",
    "    # vars:  Z  T  C\n",
    "    means = [0, 0, 0]\n",
    "\n",
    "    # generate Z, T, Z\n",
    "    data = np.random.multivariate_normal(mean=means, cov=covar, size=n_samples)\n",
    "    \n",
    "    # generate binary instrument\n",
    "    Z = (data[:, 0] > norm.ppf(1-prop_z)).astype(int)\n",
    "    \n",
    "    # generate endogenous treatment\n",
    "    T = (data[:, 1] > 0).astype(int)\n",
    "\n",
    "    # fill in Z when the sample is a complier, 0 for nt, 1 for at\n",
    "    T = np.where(feat_df['comply_status'] == 'co', Z, T)\n",
    "    T = np.where(feat_df['comply_status'] == 'nt', 0, T)\n",
    "    T = np.where(feat_df['comply_status'] == 'at', 1, T)\n",
    "    \n",
    "    C = data[:, 2]\n",
    "    \n",
    "    # add noncomplier bias\n",
    "    nc_bias_eff = 0.25\n",
    "    B = np.where(X != 1, nc_bias_eff, 0)\n",
    "\n",
    "    Y = (tau + B)*T + C + np.random.normal(0, 1, n_samples)\n",
    "    \n",
    "    feat_df['Z'] = Z\n",
    "    feat_df['X'] = X\n",
    "    feat_df['T'] = T\n",
    "    feat_df['C'] = C\n",
    "    feat_df['Y'] = Y\n",
    "    feat_df['B'] = B\n",
    "    \n",
    "    return feat_df"
   ]
  },
  {
   "cell_type": "code",
   "execution_count": 32,
   "metadata": {},
   "outputs": [],
   "source": [
    "formula = 'Y ~ 1 + [T ~ Z]'\n",
    "\n",
    "def simulation(n, tau, prop_comply, n_trials, exclude_criteria=None, confound_str=0.8):\n",
    "    pwrs = []\n",
    "    tau_hats = []\n",
    "    n_excluded = []\n",
    "    var_hats = []\n",
    "    \n",
    "    for trial in range(n_trials):\n",
    "        prop_nt = (1 - prop_comply) / 2\n",
    "        prop_at = (1 - prop_comply) / 2\n",
    "        #df = generate_IV(n, tau, prop_comply, trial, confound_str)\n",
    "        df = generate_IV_comply_indicator(n, tau, \n",
    "                                          prop_nt=prop_nt, prop_at=prop_at, \n",
    "                                          seed=trial, C_T=confound_str)\n",
    "        \n",
    "        if exclude_criteria == \"TneqZ\":\n",
    "            sel_df = df[df['T'] == df['Z']]\n",
    "        elif exclude_criteria == \"comply\":\n",
    "            sel_df = df[df['X'] == 1]\n",
    "        elif exclude_criteria is None:\n",
    "            sel_df = df\n",
    "            \n",
    "        iv_model = IV2SLS.from_formula(formula, sel_df)\n",
    "        iv_results = iv_model.fit(cov_type='robust')\n",
    "        var = iv_results.std_errors['T']**2\n",
    "        tau_hat = iv_results.params['T']\n",
    "        \n",
    "        pwr = rdd_power(tau, var)\n",
    "        pwrs.append(pwr)\n",
    "        tau_hats.append(tau_hat)\n",
    "        var_hats.append(var)\n",
    "        \n",
    "        n_excluded.append(df.shape[0] - sel_df.shape[0])\n",
    "\n",
    "    return tau_hats, pwrs, var_hats, n_excluded"
   ]
  },
  {
   "cell_type": "code",
   "execution_count": 33,
   "metadata": {},
   "outputs": [],
   "source": [
    "def plot_results(tau, tau_hats, pwrs, var_hats, n_exclude):\n",
    "    fig, (ax1, ax2, ax3, ax4) = plt.subplots(4, 1, figsize=(10, 8), dpi=150)\n",
    "    sns.boxplot(data=tau_hats, ax=ax1, orient='h')\n",
    "    ax1.axvline(tau, color='black', ls='--', label=\"true treatment effect\", )\n",
    "    ax1.set_xlim(tau - 1.5, tau + 1.5)\n",
    "    ax1.legend()\n",
    "    ax1.set_ylabel(\"Est. treatment effect\")\n",
    "\n",
    "    sns.boxplot(data=pwrs, color='green', ax=ax2, orient='h')\n",
    "    ax2.set_xlim(0, 1)\n",
    "    ax2.set_ylabel(\"Est. power\")\n",
    "    \n",
    "    \n",
    "    sns.boxplot(data=var_hats, color='red', ax=ax3, orient='h')\n",
    "    ax3.set_xlim(0, 0.5)\n",
    "    ax3.set_ylabel(\"Std. errors\")\n",
    "\n",
    "    \n",
    "    sns.boxplot(data=n_exclude, color='orange', ax=ax4, orient='h')\n",
    "    #ax2.set_xlim(0, 1)\n",
    "    ax4.set_ylabel(\"Num excluded\")"
   ]
  },
  {
   "cell_type": "markdown",
   "metadata": {},
   "source": [
    "## Simulation sandbox"
   ]
  },
  {
   "cell_type": "code",
   "execution_count": 34,
   "metadata": {},
   "outputs": [],
   "source": [
    "n = 500\n",
    "n_trials = 500\n",
    "prop_comply = 0.5\n",
    "tau = 0.5"
   ]
  },
  {
   "cell_type": "code",
   "execution_count": 35,
   "metadata": {},
   "outputs": [
    {
     "name": "stdout",
     "output_type": "stream",
     "text": [
      "0.6274959517518255\n",
      "CPU times: user 1min 17s, sys: 2.49 s, total: 1min 20s\n",
      "Wall time: 10 s\n"
     ]
    },
    {
     "data": {
      "image/png": "[encoded data removed]",
      "text/plain": [
       "<Figure size 1500x1200 with 4 Axes>"
      ]
     },
     "metadata": {
      "needs_background": "light"
     },
     "output_type": "display_data"
    }
   ],
   "source": [
    "%%time\n",
    "\n",
    "tau_hats, pwrs, var_hats, n_exclude = simulation(n, tau, prop_comply, n_trials, \"comply\")\n",
    "\n",
    "plot_results(tau, tau_hats, pwrs, var_hats, n_exclude)\n",
    "print(np.mean(pwrs))"
   ]
  },
  {
   "cell_type": "code",
   "execution_count": 36,
   "metadata": {},
   "outputs": [
    {
     "name": "stdout",
     "output_type": "stream",
     "text": [
      "0.7972675837705235\n",
      "CPU times: user 1min 52s, sys: 3.47 s, total: 1min 56s\n",
      "Wall time: 14.5 s\n"
     ]
    },
    {
     "data": {
      "image/png": "[encoded data removed]",
      "text/plain": [
       "<Figure size 1500x1200 with 4 Axes>"
      ]
     },
     "metadata": {
      "needs_background": "light"
     },
     "output_type": "display_data"
    }
   ],
   "source": [
    "%%time\n",
    "\n",
    "tau_hats, pwrs, var_hats, n_exclude = simulation(n, tau, prop_comply, n_trials, \"TneqZ\")\n",
    "\n",
    "plot_results(tau, tau_hats, pwrs, var_hats, n_exclude)\n",
    "print(np.mean(pwrs))"
   ]
  },
  {
   "cell_type": "code",
   "execution_count": 37,
   "metadata": {},
   "outputs": [
    {
     "name": "stdout",
     "output_type": "stream",
     "text": [
      "0.36324685405498247\n",
      "CPU times: user 1min 46s, sys: 3.47 s, total: 1min 50s\n",
      "Wall time: 13.8 s\n"
     ]
    },
    {
     "data": {
      "image/png": "[encoded data removed]",
      "text/plain": [
       "<Figure size 1500x1200 with 4 Axes>"
      ]
     },
     "metadata": {
      "needs_background": "light"
     },
     "output_type": "display_data"
    }
   ],
   "source": [
    "%%time\n",
    "\n",
    "tau_hats, pwrs, var_hats, n_exclude = simulation(n, tau, prop_comply, n_trials, None)\n",
    "\n",
    "plot_results(tau, tau_hats, pwrs, var_hats, n_exclude)\n",
    "print(np.mean(pwrs))"
   ]
  },
  {
   "cell_type": "markdown",
   "metadata": {
    "heading_collapsed": true
   },
   "source": [
    "## Widget"
   ]
  },
  {
   "cell_type": "code",
   "execution_count": 415,
   "metadata": {
    "hidden": true
   },
   "outputs": [],
   "source": [
    "pd.set_option(\"display.precision\", 3)"
   ]
  },
  {
   "cell_type": "code",
   "execution_count": 416,
   "metadata": {
    "hidden": true
   },
   "outputs": [
    {
     "data": {
      "application/vnd.jupyter.widget-view+json": {
       "model_id": "2c8c39a8f3cf40a4baff7a8176890ccf",
       "version_major": 2,
       "version_minor": 0
      },
      "text/plain": [
       "interactive(children=(Dropdown(description='excl_type', options=(('No exclusion', None), ('Per-protocol: T neq…"
      ]
     },
     "metadata": {},
     "output_type": "display_data"
    }
   ],
   "source": [
    "import warnings\n",
    "warnings.filterwarnings('ignore')\n",
    "\n",
    "@interact_manual(\n",
    "    excl_type = [\n",
    "        (\"No exclusion\", None),\n",
    "        (\"Per-protocol: T neq Z\", \"TneqZ\"),\n",
    "        (\"True noncompliers\", \"comply\")\n",
    "    ],\n",
    "    n=(100,1000,50),\n",
    "    n_trials=(100,1000,50),\n",
    "    prop_comply=(0,1, 0.1),\n",
    "    tau=(-1, 1, 0.1),\n",
    "    confound_str=(0, 1, 0.1)\n",
    ")\n",
    "def sim_plot_iv_exclusion(excl_type, n=500, n_trials=500, prop_comply=0.5, tau=0.5, confound_str=0.8):\n",
    "    tau_hats, pwrs, var_hats, n_exclude = simulation(n, tau, prop_comply, n_trials, excl_type, confound_str)\n",
    "    df = pd.DataFrame()\n",
    "    df['tau_hat'] = tau_hats\n",
    "    df['var_hat'] = var_hats\n",
    "    df['power'] = pwrs\n",
    "    df['n_exclude'] = n_exclude\n",
    "    plot_results(tau, tau_hats, pwrs, var_hats, n_exclude)\n",
    "    display(df.describe().transpose())"
   ]
  },
  {
   "cell_type": "markdown",
   "metadata": {
    "hidden": true
   },
   "source": [
    "**TODO** figure out why excluding the observed noncompliers *isn't* biasing estimates\n",
    "- answer: \"per-protocol\" analyses (where we only analyze observed compliers) is generally biased, but only when there are confounders (see Chapter 23.9.2 of Imbens & Rubin)\n",
    "- Next thing to figure out: why is the power increase minimal even in the presence of a perfect compliance indicator?"
   ]
  },
  {
   "cell_type": "markdown",
   "metadata": {},
   "source": [
    "# ML sandbox"
   ]
  },
  {
   "cell_type": "markdown",
   "metadata": {},
   "source": [
    "## Linear model of likely compliance"
   ]
  },
  {
   "cell_type": "code",
   "execution_count": 658,
   "metadata": {},
   "outputs": [],
   "source": [
    "from sklearn.model_selection import StratifiedKFold\n",
    "from sklearn.linear_model import LogisticRegression, LogisticRegressionCV"
   ]
  },
  {
   "cell_type": "code",
   "execution_count": 659,
   "metadata": {},
   "outputs": [
    {
     "data": {
      "text/html": [
       "<div>\n",
       "<style scoped>\n",
       "    .dataframe tbody tr th:only-of-type {\n",
       "        vertical-align: middle;\n",
       "    }\n",
       "\n",
       "    .dataframe tbody tr th {\n",
       "        vertical-align: top;\n",
       "    }\n",
       "\n",
       "    .dataframe thead th {\n",
       "        text-align: right;\n",
       "    }\n",
       "</style>\n",
       "<table border=\"1\" class=\"dataframe\">\n",
       "  <thead>\n",
       "    <tr style=\"text-align: right;\">\n",
       "      <th></th>\n",
       "      <th>Z</th>\n",
       "      <th>X</th>\n",
       "      <th>T</th>\n",
       "      <th>C</th>\n",
       "      <th>Y</th>\n",
       "      <th>B</th>\n",
       "    </tr>\n",
       "  </thead>\n",
       "  <tbody>\n",
       "    <tr>\n",
       "      <th>0</th>\n",
       "      <td>1</td>\n",
       "      <td>1</td>\n",
       "      <td>1</td>\n",
       "      <td>6.033e-04</td>\n",
       "      <td>-1.244</td>\n",
       "      <td>0.00</td>\n",
       "    </tr>\n",
       "    <tr>\n",
       "      <th>1</th>\n",
       "      <td>0</td>\n",
       "      <td>1</td>\n",
       "      <td>0</td>\n",
       "      <td>-1.223e+00</td>\n",
       "      <td>-2.278</td>\n",
       "      <td>0.00</td>\n",
       "    </tr>\n",
       "    <tr>\n",
       "      <th>2</th>\n",
       "      <td>0</td>\n",
       "      <td>1</td>\n",
       "      <td>0</td>\n",
       "      <td>-2.383e+00</td>\n",
       "      <td>-2.707</td>\n",
       "      <td>0.00</td>\n",
       "    </tr>\n",
       "    <tr>\n",
       "      <th>3</th>\n",
       "      <td>0</td>\n",
       "      <td>1</td>\n",
       "      <td>0</td>\n",
       "      <td>-2.337e-01</td>\n",
       "      <td>-0.022</td>\n",
       "      <td>0.00</td>\n",
       "    </tr>\n",
       "    <tr>\n",
       "      <th>4</th>\n",
       "      <td>0</td>\n",
       "      <td>0</td>\n",
       "      <td>0</td>\n",
       "      <td>8.954e-01</td>\n",
       "      <td>1.906</td>\n",
       "      <td>0.25</td>\n",
       "    </tr>\n",
       "  </tbody>\n",
       "</table>\n",
       "</div>"
      ],
      "text/plain": [
       "   Z  X  T          C      Y     B\n",
       "0  1  1  1  6.033e-04 -1.244  0.00\n",
       "1  0  1  0 -1.223e+00 -2.278  0.00\n",
       "2  0  1  0 -2.383e+00 -2.707  0.00\n",
       "3  0  1  0 -2.337e-01 -0.022  0.00\n",
       "4  0  0  0  8.954e-01  1.906  0.25"
      ]
     },
     "metadata": {},
     "output_type": "display_data"
    }
   ],
   "source": [
    "n = 2000\n",
    "tau = 0.5\n",
    "prop_comply = 0.4\n",
    "prop_nt = 0.8\n",
    "prop_z = 0.8\n",
    "seed = 42\n",
    "data = generate_IV(n, tau, prop_comply, seed, C_T=0.8, prop_nt=prop_nt, prop_z=prop_z)\n",
    "display(data.head())"
   ]
  },
  {
   "cell_type": "code",
   "execution_count": 660,
   "metadata": {},
   "outputs": [],
   "source": [
    "data['comply_indicator'] = data['T'] == data['Z'] "
   ]
  },
  {
   "cell_type": "code",
   "execution_count": 661,
   "metadata": {},
   "outputs": [],
   "source": [
    "n_splits = 2\n",
    "\n",
    "kfold = StratifiedKFold(n_splits=n_splits,\n",
    "             shuffle=True, random_state=42)\n",
    "\n",
    "indices = []\n",
    "\n",
    "for train_idx, test_idx in kfold.split(data, y=data['comply_indicator']):\n",
    "    indices.append(test_idx)\n",
    "    \n",
    "\n",
    "s1_df = data.iloc[indices[0]].copy()\n",
    "s2_df = data.iloc[indices[1]].copy()\n"
   ]
  },
  {
   "cell_type": "code",
   "execution_count": 662,
   "metadata": {},
   "outputs": [
    {
     "name": "stdout",
     "output_type": "stream",
     "text": [
      "0.798\n",
      "0.767\n"
     ]
    }
   ],
   "source": [
    "lr_model = LogisticRegression()\n",
    "lr_model.fit(s1_df[['X']], s1_df['comply_indicator'])\n",
    "print(lr_model.score(s1_df[['X']], s1_df['comply_indicator']))\n",
    "print(lr_model.score(s2_df[['X']], s2_df['comply_indicator']))"
   ]
  },
  {
   "cell_type": "code",
   "execution_count": 663,
   "metadata": {},
   "outputs": [
    {
     "data": {
      "text/plain": [
       "False    376\n",
       "True     202\n",
       "Name: comply_indicator, dtype: int64"
      ]
     },
     "execution_count": 663,
     "metadata": {},
     "output_type": "execute_result"
    }
   ],
   "source": [
    "s1_df[s1_df['X'] == 0]['comply_indicator'].value_counts()"
   ]
  },
  {
   "cell_type": "code",
   "execution_count": 664,
   "metadata": {},
   "outputs": [],
   "source": [
    "lr_preds = lr_model.predict_proba(s2_df[['X']])[:, 1]"
   ]
  },
  {
   "cell_type": "markdown",
   "metadata": {},
   "source": [
    "- likely compliance prediction will predict p(likely compliance) == 1 for X=1, then E(likely compliance | X = 0) "
   ]
  },
  {
   "cell_type": "markdown",
   "metadata": {},
   "source": [
    "## Causal forest on heterogeneous instrument effects"
   ]
  },
  {
   "cell_type": "code",
   "execution_count": 665,
   "metadata": {},
   "outputs": [],
   "source": [
    "import rpy2\n",
    "from rpy2.robjects.packages import importr\n",
    "from rpy2.robjects import pandas2ri, r"
   ]
  },
  {
   "cell_type": "code",
   "execution_count": 666,
   "metadata": {},
   "outputs": [],
   "source": [
    "pandas2ri.activate()\n",
    "r_grf = importr('grf')\n",
    "r_utils = importr('utils')"
   ]
  },
  {
   "cell_type": "code",
   "execution_count": 667,
   "metadata": {},
   "outputs": [],
   "source": [
    "r_forest = r_grf.causal_forest(\n",
    "    # grf expects a matrix for X, vectors for W, Y\n",
    "    X = s1_df[['X']],\n",
    "    W = s1_df['Z'],\n",
    "    Y = s1_df['T'],\n",
    ")"
   ]
  },
  {
   "cell_type": "code",
   "execution_count": 668,
   "metadata": {},
   "outputs": [],
   "source": [
    "# predicted heterogeneous instrument effects\n",
    "comp_hat = r.predict(r_forest, s2_df[['X']])"
   ]
  },
  {
   "cell_type": "code",
   "execution_count": 669,
   "metadata": {},
   "outputs": [],
   "source": [
    "comp_hat.columns = ['cf_preds']\n",
    "comp_hat['lr_preds'] = lr_preds"
   ]
  },
  {
   "cell_type": "code",
   "execution_count": 670,
   "metadata": {},
   "outputs": [
    {
     "data": {
      "text/html": [
       "<div>\n",
       "<style scoped>\n",
       "    .dataframe tbody tr th:only-of-type {\n",
       "        vertical-align: middle;\n",
       "    }\n",
       "\n",
       "    .dataframe tbody tr th {\n",
       "        vertical-align: top;\n",
       "    }\n",
       "\n",
       "    .dataframe thead th {\n",
       "        text-align: right;\n",
       "    }\n",
       "</style>\n",
       "<table border=\"1\" class=\"dataframe\">\n",
       "  <thead>\n",
       "    <tr style=\"text-align: right;\">\n",
       "      <th></th>\n",
       "      <th>cf_preds</th>\n",
       "      <th>lr_preds</th>\n",
       "    </tr>\n",
       "  </thead>\n",
       "  <tbody>\n",
       "    <tr>\n",
       "      <th>1</th>\n",
       "      <td>1.000</td>\n",
       "      <td>0.988</td>\n",
       "    </tr>\n",
       "    <tr>\n",
       "      <th>2</th>\n",
       "      <td>1.000</td>\n",
       "      <td>0.988</td>\n",
       "    </tr>\n",
       "    <tr>\n",
       "      <th>3</th>\n",
       "      <td>1.000</td>\n",
       "      <td>0.988</td>\n",
       "    </tr>\n",
       "    <tr>\n",
       "      <th>4</th>\n",
       "      <td>-0.031</td>\n",
       "      <td>0.358</td>\n",
       "    </tr>\n",
       "    <tr>\n",
       "      <th>5</th>\n",
       "      <td>-0.031</td>\n",
       "      <td>0.358</td>\n",
       "    </tr>\n",
       "    <tr>\n",
       "      <th>...</th>\n",
       "      <td>...</td>\n",
       "      <td>...</td>\n",
       "    </tr>\n",
       "    <tr>\n",
       "      <th>996</th>\n",
       "      <td>1.000</td>\n",
       "      <td>0.988</td>\n",
       "    </tr>\n",
       "    <tr>\n",
       "      <th>997</th>\n",
       "      <td>1.000</td>\n",
       "      <td>0.988</td>\n",
       "    </tr>\n",
       "    <tr>\n",
       "      <th>998</th>\n",
       "      <td>-0.031</td>\n",
       "      <td>0.358</td>\n",
       "    </tr>\n",
       "    <tr>\n",
       "      <th>999</th>\n",
       "      <td>-0.031</td>\n",
       "      <td>0.358</td>\n",
       "    </tr>\n",
       "    <tr>\n",
       "      <th>1000</th>\n",
       "      <td>-0.031</td>\n",
       "      <td>0.358</td>\n",
       "    </tr>\n",
       "  </tbody>\n",
       "</table>\n",
       "<p>1000 rows × 2 columns</p>\n",
       "</div>"
      ],
      "text/plain": [
       "      cf_preds  lr_preds\n",
       "1        1.000     0.988\n",
       "2        1.000     0.988\n",
       "3        1.000     0.988\n",
       "4       -0.031     0.358\n",
       "5       -0.031     0.358\n",
       "...        ...       ...\n",
       "996      1.000     0.988\n",
       "997      1.000     0.988\n",
       "998     -0.031     0.358\n",
       "999     -0.031     0.358\n",
       "1000    -0.031     0.358\n",
       "\n",
       "[1000 rows x 2 columns]"
      ]
     },
     "execution_count": 670,
     "metadata": {},
     "output_type": "execute_result"
    }
   ],
   "source": [
    "comp_hat"
   ]
  },
  {
   "cell_type": "markdown",
   "metadata": {},
   "source": [
    "- p_nt = 0.12\n",
    "- p_at = 0.48\n",
    "- p_co = 0.4"
   ]
  },
  {
   "cell_type": "code",
   "execution_count": 671,
   "metadata": {},
   "outputs": [
    {
     "data": {
      "text/plain": [
       "0.19393939393939394"
      ]
     },
     "execution_count": 671,
     "metadata": {},
     "output_type": "execute_result"
    }
   ],
   "source": [
    "data[(data['Z'] == 0) & (data['X'] == 0)]['T'].mean()"
   ]
  },
  {
   "cell_type": "code",
   "execution_count": 672,
   "metadata": {},
   "outputs": [
    {
     "data": {
      "text/plain": [
       "0.19696969696969696"
      ]
     },
     "execution_count": 672,
     "metadata": {},
     "output_type": "execute_result"
    }
   ],
   "source": [
    "data[(data['Z'] == 1) & (data['X'] == 0)]['T'].mean()"
   ]
  },
  {
   "cell_type": "code",
   "execution_count": 673,
   "metadata": {},
   "outputs": [
    {
     "data": {
      "text/plain": [
       "169"
      ]
     },
     "execution_count": 673,
     "metadata": {},
     "output_type": "execute_result"
    }
   ],
   "source": [
    "test = data[data['X'] == 0]\n",
    "test = test[test['Z'] == 1]\n",
    "(test['Z'] == test['T']).sum()"
   ]
  },
  {
   "cell_type": "code",
   "execution_count": 674,
   "metadata": {
    "scrolled": true
   },
   "outputs": [
    {
     "data": {
      "text/plain": [
       "0.11130434782608696"
      ]
     },
     "execution_count": 674,
     "metadata": {},
     "output_type": "execute_result"
    }
   ],
   "source": [
    "p_at = data[(data['Z'] == 0) & (data['T'] == 1)].shape[0] / data[data['Z'] == 0].shape[0]\n",
    "p_at"
   ]
  },
  {
   "cell_type": "code",
   "execution_count": 676,
   "metadata": {},
   "outputs": [
    {
     "data": {
      "text/plain": [
       "0.48350877192982455"
      ]
     },
     "execution_count": 676,
     "metadata": {},
     "output_type": "execute_result"
    }
   ],
   "source": [
    "p_nt = data[(data['Z'] == 1) & (data['T'] == 0)].shape[0] / data[data['Z'] == 1].shape[0]\n",
    "p_nt"
   ]
  },
  {
   "cell_type": "code",
   "execution_count": 677,
   "metadata": {},
   "outputs": [
    {
     "data": {
      "text/plain": [
       "0.40518688024408844"
      ]
     },
     "execution_count": 677,
     "metadata": {},
     "output_type": "execute_result"
    }
   ],
   "source": [
    "1 - p_at - p_nt"
   ]
  },
  {
   "cell_type": "code",
   "execution_count": 678,
   "metadata": {},
   "outputs": [
    {
     "data": {
      "text/plain": [
       "0.6982758620689655"
      ]
     },
     "execution_count": 678,
     "metadata": {},
     "output_type": "execute_result"
    }
   ],
   "source": [
    "data[data['X'] == 1]['T'].mean()"
   ]
  },
  {
   "cell_type": "code",
   "execution_count": 679,
   "metadata": {},
   "outputs": [
    {
     "data": {
      "text/plain": [
       "567"
      ]
     },
     "execution_count": 679,
     "metadata": {},
     "output_type": "execute_result"
    }
   ],
   "source": [
    "test = data[data['X'] == 1]\n",
    "\n",
    "(test['Z'] == 1).sum()"
   ]
  },
  {
   "cell_type": "code",
   "execution_count": 682,
   "metadata": {
    "scrolled": true
   },
   "outputs": [
    {
     "data": {
      "text/plain": [
       "0.31227494229289554"
      ]
     },
     "execution_count": 682,
     "metadata": {},
     "output_type": "execute_result"
    }
   ],
   "source": [
    "(p_nt + prop_z*(p_at - p_nt)) / (p_nt + p_at)"
   ]
  },
  {
   "cell_type": "code",
   "execution_count": 683,
   "metadata": {},
   "outputs": [
    {
     "data": {
      "text/plain": [
       "0.32"
      ]
     },
     "execution_count": 683,
     "metadata": {},
     "output_type": "execute_result"
    }
   ],
   "source": [
    "nt = .48\n",
    "at = 0.12\n",
    "co = 1 - nt - at\n",
    "p = prop_z\n",
    "(nt + p*(at - nt)) / (1 - co)"
   ]
  },
  {
   "cell_type": "markdown",
   "metadata": {},
   "source": [
    "# Sandbox/reference"
   ]
  },
  {
   "cell_type": "code",
   "execution_count": null,
   "metadata": {},
   "outputs": [],
   "source": [
    "iv_model = IV2SLS.from_formula(formula, sel_df)\n",
    "iv_results = iv_model.fit(cov_type='robust')\n",
    "var = iv_results.std_errors['T']**2\n",
    "tau_hat = iv_results.params['T']\n",
    "var_list.append(var)\n",
    "tau_list.append(tau_hat)\n",
    "\n",
    "pwr = rdd_power(tau, var)\n",
    "#pwr = iv_power(sel_df, tau)\n",
    "complier_pwr_list.append(pwr)"
   ]
  },
  {
   "cell_type": "code",
   "execution_count": 655,
   "metadata": {},
   "outputs": [],
   "source": [
    "# # alternative formulation with shared covariance\n",
    "# def generate_IV(n, tau, prop_comply, seed, C_T=0.8, prop_nt=0.5, prop_z=0.5):\n",
    "#     \"\"\"\n",
    "#     Generates IV data with compliance indicator X.\n",
    "    \n",
    "#     Args:\n",
    "#         prop_comply (float): the *total proportion* of compliers in the data\n",
    "#         C_T (float): the confounding strength between C and T\n",
    "#             TODO needs to be fixed, by generating shared covariance for compliers and noncompliers\n",
    "#         prop_nt (float): the proportion of never takers *among non-compliers*\n",
    "        \n",
    "    \n",
    "#     \"\"\"\n",
    "#     np.random.seed(seed)\n",
    "\n",
    "#     Z_T = 0.8\n",
    "\n",
    "#     # vars:             Z    T    C\n",
    "#     covar = np.array([[1.0, Z_T, 0.0], # Z\n",
    "#                       [Z_T, 1.0, C_T], # T\n",
    "#                       [0.0, C_T, 1.0]])# C\n",
    "    \n",
    "#     covar += np.eye(3,3)\n",
    "\n",
    "#     # vars:  Z  T  C\n",
    "#     means = [0, 0, 0]\n",
    "\n",
    "#     # generate some data\n",
    "#     data = np.random.multivariate_normal(mean=means, cov=covar, size=n)\n",
    "\n",
    "#     # generate binary instrument\n",
    "#     Z = (data[:, 0] > norm.ppf(1-prop_z)).astype(int)\n",
    "\n",
    "#     # generate random binary covariate for compliance\n",
    "#     X = np.random.random_sample(n)\n",
    "#     X = (X < prop_comply).astype(int)\n",
    "\n",
    "#     # generate endogenous treatment\n",
    "#     T = (data[:, 1] > 0).astype(int)\n",
    "\n",
    "#     # fill in Z when the sample is a complier\n",
    "#     T = np.where(X == 1, Z, T)\n",
    "    \n",
    "#     # set never takers to prop_nt of non-compliers\n",
    "#     T[X != 1] = (np.random.sample((X != 1).sum()) > prop_nt).astype(int)\n",
    "\n",
    "#     # generate a confounder: correlation with treatment\n",
    "#     # problem with this approach, creates a path T -> C -> Y\n",
    "#     #     C = np.random.normal(loc=C_T * (T - np.mean(T)), \n",
    "#     #                          scale=1 - (C_T**2))\n",
    "#     C = data[:, 2]\n",
    "    \n",
    "#     # add noncomplier bias\n",
    "#     nc_bias_eff = 0.25\n",
    "#     B = np.where(X != 1, nc_bias_eff, 0)\n",
    "\n",
    "#     Y = (tau + B)*T + C + np.random.normal(0, 1, n)\n",
    "    \n",
    "#     df = pd.DataFrame()\n",
    "#     df['Z'] = Z\n",
    "#     df['X'] = X\n",
    "#     df['T'] = T\n",
    "#     df['C'] = C\n",
    "#     df['Y'] = Y\n",
    "#     df['B'] = B\n",
    "    \n",
    "#     return df"
   ]
  }
 ],
 "metadata": {
  "hide_input": false,
  "kernelspec": {
   "display_name": "Python 3",
   "language": "python",
   "name": "python3"
  },
  "language_info": {
   "codemirror_mode": {
    "name": "ipython",
    "version": 3
   },
   "file_extension": ".py",
   "mimetype": "text/x-python",
   "name": "python",
   "nbconvert_exporter": "python",
   "pygments_lexer": "ipython3",
   "version": "3.7.7"
  }
 },
 "nbformat": 4,
 "nbformat_minor": 2
}
